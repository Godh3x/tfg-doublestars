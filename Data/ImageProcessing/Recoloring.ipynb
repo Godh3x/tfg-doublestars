{
 "cells": [
  {
   "cell_type": "markdown",
   "metadata": {},
   "source": [
    "# Image processing in Python"
   ]
  },
  {
   "cell_type": "markdown",
   "metadata": {},
   "source": [
    "## Recoloring"
   ]
  },
  {
   "cell_type": "markdown",
   "metadata": {},
   "source": [
    "Given an image we want to transform the pixels into pure red, green, blue, black or white color and store the result in a file."
   ]
  },
  {
   "cell_type": "code",
   "execution_count": 1,
   "metadata": {
    "collapsed": true
   },
   "outputs": [],
   "source": [
    "from PIL import Image, ImageDraw\n",
    "import os"
   ]
  },
  {
   "cell_type": "markdown",
   "metadata": {},
   "source": [
    "There will be more than one image to process so we will loop through a directory and process every jpg file."
   ]
  },
  {
   "cell_type": "code",
   "execution_count": 2,
   "metadata": {
    "collapsed": true
   },
   "outputs": [],
   "source": [
    "directory = 'trainYes'"
   ]
  },
  {
   "cell_type": "markdown",
   "metadata": {},
   "source": [
    "Pixel group membership is defined by the minimum distance between the values of a pixel and a group.\n",
    "Returns a group identifier, known groups are: 'red', 'green', 'blue', 'black' and 'white'.\n",
    "\n",
    "Distance is defined as a lambda expression that represents the [Manhattan distance](https://en.wikipedia.org/wiki/Taxicab_geometry) between two points."
   ]
  },
  {
   "cell_type": "code",
   "execution_count": 3,
   "metadata": {
    "collapsed": true
   },
   "outputs": [],
   "source": [
    "def colorgroup(pixel):\n",
    "    groups = {  'red' : (255,   0,   0),\n",
    "              'green' : (  0, 255,   0),\n",
    "               'blue' : (  0,   0, 255),\n",
    "              'black' : (  0,   0,   0),\n",
    "              'white' : (255, 255, 255)}\n",
    "\n",
    "    dist = lambda p1,p2: abs(p1[0] - p2[0]) + abs(p1[1] - p2[1]) + abs(p1[2] - p2[2])\n",
    "\n",
    "    res = {}\n",
    "    for c,v in groups.items():\n",
    "        res[c] = dist(pixel,v)\n",
    "    return min(res, key = res.get)"
   ]
  },
  {
   "cell_type": "markdown",
   "metadata": {},
   "source": [
    "Once an image is selected the processing loops through every pixel and classifies them into red, green, blue, black or white. Meanwhile another image will be generated using the pure tonality."
   ]
  },
  {
   "cell_type": "code",
   "execution_count": null,
   "metadata": {
    "collapsed": true
   },
   "outputs": [],
   "source": [
    "def process(file):    \n",
    "    im = Image.open('{0}/{1}'.format(directory,file)).convert('RGB')\n",
    "    imtrans = Image.new('RGB',im.size)\n",
    "    \n",
    "    d = ImageDraw.Draw(imtrans) #Drawing context\n",
    "    \n",
    "    width,height = im.size\n",
    "    for w in range(width):\n",
    "        for h in range(height):\n",
    "            d.point((w,h), colorgroup(im.getpixel((w,h))))\n",
    "            \n",
    "    imtrans.save('{0}/{1}_T.png'.format(directory,file[:-4]), \"PNG\")"
   ]
  },
  {
   "cell_type": "markdown",
   "metadata": {},
   "source": [
    "Now that images can be processed is time to determine which files in the directory are .jpg and process them.\n",
    "\n",
    "The transformed version will be stored in the same directory but appending '_T'."
   ]
  },
  {
   "cell_type": "code",
   "execution_count": null,
   "metadata": {
    "collapsed": true
   },
   "outputs": [],
   "source": [
    "encdir = os.fsencode(directory)\n",
    "for file in os.listdir(encdir):\n",
    "    fname = os.fsdecode(file)\n",
    "    if not fname.endswith(\".jpg\"):\n",
    "        continue\n",
    "    process(fname)"
   ]
  }
 ],
 "metadata": {
  "kernelspec": {
   "display_name": "Python 3",
   "language": "python",
   "name": "python3"
  },
  "language_info": {
   "codemirror_mode": {
    "name": "ipython",
    "version": 3
   },
   "file_extension": ".py",
   "mimetype": "text/x-python",
   "name": "python",
   "nbconvert_exporter": "python",
   "pygments_lexer": "ipython3",
   "version": "3.6.3"
  }
 },
 "nbformat": 4,
 "nbformat_minor": 2
}
