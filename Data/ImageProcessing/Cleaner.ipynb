{
 "cells": [
  {
   "cell_type": "markdown",
   "metadata": {},
   "source": [
    "# Image processing in Python"
   ]
  },
  {
   "cell_type": "markdown",
   "metadata": {},
   "source": [
    "## Cleaner"
   ]
  },
  {
   "cell_type": "markdown",
   "metadata": {},
   "source": [
    "Given an image we want to count the number of pixels of red, green, blue, black and white color and store that value in a file."
   ]
  },
  {
   "cell_type": "code",
   "execution_count": 1,
   "metadata": {
    "collapsed": true
   },
   "outputs": [],
   "source": [
    "from PIL import Image\n",
    "import os, shutil"
   ]
  },
  {
   "cell_type": "markdown",
   "metadata": {},
   "source": [
    "There will be more than one image to process so we will loop through a directory and process every jpg file. Results will be stored in a file, output format will be: image_identifier results."
   ]
  },
  {
   "cell_type": "code",
   "execution_count": 2,
   "metadata": {
    "collapsed": true
   },
   "outputs": [],
   "source": [
    "directory = 'test'\n",
    "fout = 'stats'"
   ]
  },
  {
   "cell_type": "markdown",
   "metadata": {},
   "source": [
    "Pixel group membership is defined by the minimum distance between the values of a pixel and a group.\n",
    "Returns a group identifier, known groups are: 'red', 'green', 'blue', 'black' and 'white'.\n",
    "\n",
    "Distance is defined as a lambda expression that represents the [Manhattan distance](https://en.wikipedia.org/wiki/Taxicab_geometry) between two points."
   ]
  },
  {
   "cell_type": "code",
   "execution_count": 3,
   "metadata": {
    "collapsed": true
   },
   "outputs": [],
   "source": [
    "def colorgroup(pixel):\n",
    "    groups = {  'red' : (255,   0,   0),\n",
    "              'green' : (  0, 255,   0),\n",
    "               'blue' : (  0,   0, 255),\n",
    "              'black' : (  0,   0,   0),\n",
    "              'white' : (255, 255, 255)}\n",
    "\n",
    "    dist = lambda p1,p2: abs(p1[0] - p2[0]) + abs(p1[1] - p2[1]) + abs(p1[2] - p2[2])\n",
    "\n",
    "    res = {}\n",
    "    for c,v in groups.items():\n",
    "        res[c] = dist(pixel,v)\n",
    "    return min(res, key = res.get)"
   ]
  },
  {
   "cell_type": "markdown",
   "metadata": {},
   "source": [
    "Once an image is selected the processing loops through every pixel and counts how many of each color are there."
   ]
  },
  {
   "cell_type": "code",
   "execution_count": 4,
   "metadata": {
    "collapsed": true
   },
   "outputs": [],
   "source": [
    "def process(file):\n",
    "    count = {  'red' : 0,\n",
    "             'green' : 0,\n",
    "              'blue' : 0,\n",
    "             'black' : 0,\n",
    "             'white' : 0,\n",
    "             'red/green' : -1,    'red/blue' : -1,   'red/black' : -1,   'red/white' : -1,\n",
    "             'green/red' : -1,  'green/blue' : -1, 'green/black' : -1, 'green/white' : -1,\n",
    "              'blue/red' : -1,  'blue/green' : -1,  'blue/black' : -1,  'blue/white' : -1,\n",
    "             'black/red' : -1, 'black/green' : -1,  'black/blue' : -1, 'black/white' : -1,\n",
    "             'white/red' : -1, 'white/green' : -1,  'white/blue' : -1, 'white/black' : -1}\n",
    "    \n",
    "    im = Image.open('{0}/{1}'.format(directory,file)).convert('RGB')\n",
    "    \n",
    "    width,height = im.size\n",
    "    for w in range(width):\n",
    "        for h in range(height):\n",
    "            count[colorgroup(im.getpixel((w,h)))] += 1\n",
    "    \n",
    "    for c in {'red', 'green', 'blue', 'black', 'white'}:\n",
    "        for c2 in {'red', 'green', 'blue', 'black', 'white'}:\n",
    "            if c == c2 or count[c] == 0 or count[c2] == 0:\n",
    "                continue\n",
    "            count['{0}/{1}'.format(c,c2)] = count[c] / count[c2]\n",
    "            \n",
    "    return count"
   ]
  },
  {
   "cell_type": "markdown",
   "metadata": {},
   "source": [
    "Now that images can be processed is time to determine which files in the directory are .jpg and process them.\n",
    "\n",
    "If the image size is 0 or the stats indicate that isn't valid will be deleted.\n",
    "\n",
    "An image is not valid if:\n",
    " - There are more white than black pixels.\n",
    " - There aren't any red or blue pixels."
   ]
  },
  {
   "cell_type": "code",
   "execution_count": 5,
   "metadata": {
    "collapsed": true
   },
   "outputs": [],
   "source": [
    "encdir = os.fsencode(directory)\n",
    "out = open('{0}.txt'.format(fout), 'w')\n",
    "for file in os.listdir(encdir):\n",
    "    fname = os.fsdecode(file)\n",
    "    if not fname.endswith(\".jpg\"):\n",
    "        continue\n",
    "        \n",
    "    if os.stat('{0}/{1}'.format(directory,fname)).st_size == 0:\n",
    "        #os.remove('{0}/{1}'.format(directory,fname))\n",
    "        shutil.move('{0}/{1}'.format(directory,fname), '{0}/'.format(\"Bin\"))\n",
    "        continue\n",
    "        \n",
    "    result = process(fname)\n",
    "    if result['white'] > result['black'] or (result['red'] == 0 and result['blue'] == 0):\n",
    "        #os.remove('{0}/{1}'.format(directory,fname))\n",
    "        shutil.move('{0}/{1}'.format(directory,fname), '{0}/{1}'.format(\"Bin/\",fname))\n",
    "        continue\n",
    "    out.write('{0} {1}\\n'.format(fname, result))\n",
    "out.close()"
   ]
  }
 ],
 "metadata": {
  "kernelspec": {
   "display_name": "Python 3",
   "language": "python",
   "name": "python3"
  },
  "language_info": {
   "codemirror_mode": {
    "name": "ipython",
    "version": 3
   },
   "file_extension": ".py",
   "mimetype": "text/x-python",
   "name": "python",
   "nbconvert_exporter": "python",
   "pygments_lexer": "ipython3",
   "version": "3.6.3"
  }
 },
 "nbformat": 4,
 "nbformat_minor": 2
}
