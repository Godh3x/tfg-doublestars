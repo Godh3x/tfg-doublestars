{
 "cells": [
  {
   "cell_type": "markdown",
   "metadata": {},
   "source": [
    "# Random coordinate generator in python"
   ]
  },
  {
   "cell_type": "markdown",
   "metadata": {},
   "source": [
    "Randomly creates a set of [equatorial coordinates](https://en.wikipedia.org/wiki/Equatorial_coordinate_system)."
   ]
  },
  {
   "cell_type": "code",
   "execution_count": 1,
   "metadata": {
    "collapsed": true
   },
   "outputs": [],
   "source": [
    "import random as rnd"
   ]
  },
  {
   "cell_type": "markdown",
   "metadata": {},
   "source": [
    "n coordinates will be stored in file.txt.\n",
    "\n",
    "Coordinates are defined by two components:\n",
    "\n",
    " - Right ascension, abbreviated as ra, values may vary between 0.00 and 360.00.\n",
    " - Declination, abbreviated as dec, values may vary between -90.00 and 90.00.\n",
    " \n",
    "Range for both are between a min and max value."
   ]
  },
  {
   "cell_type": "code",
   "execution_count": 2,
   "metadata": {
    "collapsed": true
   },
   "outputs": [],
   "source": [
    "n = 1000\n",
    "file = \"random\"\n",
    "\n",
    "ramin = 0.00\n",
    "ramax = 360.00\n",
    "\n",
    "decmin = 20.00\n",
    "decmax = 90.00"
   ]
  },
  {
   "cell_type": "markdown",
   "metadata": {},
   "source": [
    "Coordinates will be stored in a set to ensure there are no duplicates."
   ]
  },
  {
   "cell_type": "code",
   "execution_count": 3,
   "metadata": {
    "collapsed": true
   },
   "outputs": [],
   "source": [
    "coord = set()"
   ]
  },
  {
   "cell_type": "markdown",
   "metadata": {},
   "source": [
    "A pair of **ra** and **dec** will be generated, given format and added to set. If a coordinate is duplicated set size will not change so every coordinate will be unique."
   ]
  },
  {
   "cell_type": "code",
   "execution_count": 4,
   "metadata": {
    "collapsed": true
   },
   "outputs": [],
   "source": [
    "while len(coord) < n:\n",
    "    ra = round(rnd.uniform(ramin, ramax), 2)\n",
    "    dec = round(rnd.uniform(decmin, decmax), 2)\n",
    "    c = '{0} {1}\\n'.format(ra, \"%+2.2f\" % dec)\n",
    "    coord.add(c)"
   ]
  },
  {
   "cell_type": "markdown",
   "metadata": {},
   "source": [
    "Once the coordinates are finished they are stored in a text file."
   ]
  },
  {
   "cell_type": "code",
   "execution_count": 5,
   "metadata": {
    "collapsed": true
   },
   "outputs": [],
   "source": [
    "out = open('{0}.txt'.format(file),\"w\")\n",
    "out.writelines(coord)\n",
    "out.close()"
   ]
  }
 ],
 "metadata": {
  "kernelspec": {
   "display_name": "Python 3",
   "language": "python",
   "name": "python3"
  },
  "language_info": {
   "codemirror_mode": {
    "name": "ipython",
    "version": 3
   },
   "file_extension": ".py",
   "mimetype": "text/x-python",
   "name": "python",
   "nbconvert_exporter": "python",
   "pygments_lexer": "ipython3",
   "version": "3.6.3"
  }
 },
 "nbformat": 4,
 "nbformat_minor": 2
}
