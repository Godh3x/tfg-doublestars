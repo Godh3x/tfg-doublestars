{
 "cells": [
  {
   "cell_type": "code",
   "execution_count": 1,
   "metadata": {},
   "outputs": [],
   "source": [
    "import numpy as np\n",
    "import cv2\n",
    "import math"
   ]
  },
  {
   "cell_type": "code",
   "execution_count": 2,
   "metadata": {},
   "outputs": [],
   "source": [
    "def separateColors(image):\n",
    "    height, width, _ = image.shape\n",
    "    blanco = np.zeros((height,width,1), np.uint8)\n",
    "    first = np.zeros((height,width,1), np.uint8)\n",
    "    last = np.zeros((height,width,1), np.uint8)\n",
    "    for x in range(height):\n",
    "        for y in range(width):\n",
    "            if(image[x][y][0] == 255 and image[x][y][1]== 255 and image[x][y][2]== 255):\n",
    "                blanco[x][y][0] = 255\n",
    "                first[x][y][0] = 255\n",
    "                last[x][y][0] = 255\n",
    "            if(image[x][y][0] == 255):\n",
    "                last[x][y][0] = 255\n",
    "            if(image[x][y][2]== 255):\n",
    "                first[x][y][0] = 255\n",
    "    return (blanco, first, last)"
   ]
  },
  {
   "cell_type": "code",
   "execution_count": 3,
   "metadata": {},
   "outputs": [],
   "source": [
    "def detectStationary(img, c):\n",
    "    conflicto = False\n",
    "    i=0\n",
    "    color = [255, 255, 255]\n",
    "    while(conflicto == False and i < len(c)):\n",
    "        conflicto, newColor = whiteSurroundings(img, c[i][0])\n",
    "        if(not(np.array_equal(newColor, color)) and not(np.array_equal(newColor,[255, 255, 255])) and not(np.array_equal(newColor,[0, 0, 0]))):\n",
    "            if(np.array_equal(color,[255, 255, 255])):\n",
    "                color = newColor\n",
    "            else:\n",
    "                conflicto = True\n",
    "        i=i+1\n",
    "    return not conflicto"
   ]
  },
  {
   "cell_type": "code",
   "execution_count": 4,
   "metadata": {},
   "outputs": [],
   "source": [
    "def whiteSurroundings(img, pto):\n",
    "    conflict = False\n",
    "    color = [255, 255, 255]\n",
    "    rows, cols,_ = image.shape\n",
    "    i = -1\n",
    "    while(i<2 and conflict == False):\n",
    "        j=-1\n",
    "        while(j<2 and conflict == False):\n",
    "            if(pto[1]+ i >=1 and pto[1] +i < rows and pto[0]+ j >=1 and pto[0]+j < cols):\n",
    "                if (not((img[pto[1]+i][pto[0]+j] ==[255, 255, 255]).all() or (img[pto[1]+i][pto[0]+j] ==[0, 0, 0]).all())):\n",
    "                    if(np.array_equal(color,[255, 255, 255])):\n",
    "                        color =img[pto[1]+i][pto[0]+j]\n",
    "                    elif(not(np.array_equal(color,img[pto[1]+i][pto[0]+j]))):\n",
    "                        conflict=True\n",
    "            j=j+1\n",
    "        i=i+1\n",
    "    return conflict, color"
   ]
  },
  {
   "cell_type": "code",
   "execution_count": 5,
   "metadata": {},
   "outputs": [],
   "source": [
    "def getUseless(image, white):\n",
    "    cntsWhite= cv2.findContours(white, cv2.RETR_LIST ,cv2.CHAIN_APPROX_NONE )[1]\n",
    "    listUseless=[]\n",
    "    for c in cntsWhite:\n",
    "        if (cv2.contourArea(c)>0):\n",
    "            if(detectStationary(image, c)):\n",
    "                listUseless.append(c)\n",
    "    return listUseless"
   ]
  },
  {
   "cell_type": "code",
   "execution_count": 6,
   "metadata": {},
   "outputs": [],
   "source": [
    "def inContourUseless(c, listCont):\n",
    "    for i in listCont:\n",
    "        for pto in i:\n",
    "            if(cv2.pointPolygonTest(c, (pto[0][0],pto[0][1]), False)!=-1):\n",
    "                return True\n",
    "    return False"
   ]
  },
  {
   "cell_type": "code",
   "execution_count": 7,
   "metadata": {},
   "outputs": [],
   "source": [
    "def getCenters(cnts, listUseless):\n",
    "    listCenter =[]\n",
    "    for c in cnts:\n",
    "        if(cv2.contourArea(c)>0 and not(inContourUseless(c, listUseless))):\n",
    "            M = cv2.moments(c)\n",
    "            cntX = int(M[\"m10\"] / M[\"m00\"])\n",
    "            cntY = int(M[\"m01\"] / M[\"m00\"])\n",
    "            listCenter.append((cntX,cntY))\n",
    "    return listCenter"
   ]
  },
  {
   "cell_type": "code",
   "execution_count": 8,
   "metadata": {},
   "outputs": [],
   "source": [
    "def matrixCenter(centerFirst, centerLast):\n",
    "    matrix = [[(0,0) for x in range(len(centerLast))] for y in range(len(centerFirst))]\n",
    "    for i in range(len(centerFirst)):\n",
    "        for j in range(len(centerLast)):\n",
    "            dist=math.sqrt((centerFirst[i][0]-centerLast[j][0])**2+(centerFirst[i][1]-centerLast[j][1])**2)\n",
    "            ang=math.atan2(centerFirst[i][0]-centerLast[j][0], centerFirst[i][1]-centerLast[j][1]) * (180.0 / math.pi)\n",
    "            matrix[i][j] =(dist,ang)\n",
    "    return matrix"
   ]
  },
  {
   "cell_type": "code",
   "execution_count": 9,
   "metadata": {},
   "outputs": [],
   "source": [
    "image = cv2.imread('imagen.png', 1)\n",
    "white, first, last = separateColors(image)\n",
    "\n",
    "cntsFirst= cv2.findContours(first, cv2.RETR_LIST ,cv2.CHAIN_APPROX_NONE )[1]\n",
    "cntsLast= cv2.findContours(last, cv2.RETR_LIST ,cv2.CHAIN_APPROX_NONE )[1]\n",
    "\n",
    "listUseless = getUseless(image, white)\n",
    "centerLast = getCenters(cntsLast, listUseless)\n",
    "centerFirst = getCenters(cntsFirst, listUseless)"
   ]
  },
  {
   "cell_type": "code",
   "execution_count": 10,
   "metadata": {},
   "outputs": [
    {
     "name": "stdout",
     "output_type": "stream",
     "text": [
      "[[(190.09471323527123, -91.80873932249206), (27.16615541441225, -83.6598082540901), (6.0, -90.0), (663.5276934687805, 86.11125401664012), (280.49420671379295, -64.89672483921319), (148.47558721890948, 10.477423596004869), (439.16397848639633, 63.493294810404635), (432.9214709390145, 63.967642167734084), (784.8649565371103, 66.17834124772975), (785.60040733187, 65.0007305691796), (458.9172038614373, 45.26484763372736), (769.8947980081434, 64.86621322305417), (459.91847103590004, 24.949159105921712), (1025.0170730285422, 63.584937431909474), (608.2474825266439, 27.19696429889896)], [(144.00347218036097, 153.6128854543324), (256.76643082770767, 117.86246898247626), (276.82666056577716, 116.37992813948502), (919.3149623496835, 94.86715698823892), (4.0, 180.0), (281.93970986719836, 85.32074083959517), (651.1052142319243, 83.56263097360593), (646.4812448942351, 84.05130048397665), (991.1710245966636, 78.71274096346386), (988.3506462789409, 77.79187427534922), (613.5144660071187, 70.97439396243132), (972.634052457552, 77.89290001505451), (535.8544578521298, 56.72511201516508), (1218.3895107887297, 74.13857756022205), (676.5707649610645, 51.84277341263094)], [(621.7041096856285, -108.3766621904213), (466.1523356157298, -113.65049151652572), (448.25885378874557, -115.07866787951463), (299.44782517159814, 118.961682060025), (657.8426863620208, -96.19591864262509), (375.5862084794914, -96.72766097253054), (9.219544457292887, -49.398705354995535), (11.0, -90.0), (342.42225394971047, 68.22966197454646), (342.79439902075416, 65.5283794662951), (152.2005256232711, -29.091168088697543), (327.0749149659753, 65.23709427606286), (306.5371103145588, -42.2233964760977), (582.3057616063918, 62.81888891452278), (371.5979009628553, -19.166344576019554)], [(620.9476628509041, -122.10319086233133), (484.5719760778578, -131.48624973939505), (471.10508381888644, -133.45184230102205), (429.08856894585296, 130.5578448710941), (624.5998719180144, -109.16017312198127), (356.6020190632689, -119.94417016113101), (140.11780757633915, 155.9959923518824), (144.10065926289164, 158.42009371237998), (382.06413074247104, 91.0498051666305), (376.0850967533811, 88.78112476486871), (10.04987562112089, -95.71059313749964), (361.01246515875323, 89.52386874835815), (169.7439247808298, -56.778024833288555), (596.78136700135, 77.22126681159396), (224.61745257214542, -14.964279680707223)], [(949.907363904502, -110.45721080391412), (795.5237268617449, -113.9551761757011), (777.632303855749, -114.78543260743382), (283.5577542582816, -172.29853637854615), (976.1992624459414, -102.24233119887444), (696.6555820489777, -104.97379962404624), (333.3901618224509, -112.95036301012678), (339.43629741086914, -113.61971245080365), (20.12461179749811, 116.56505117707799), (13.416407864998739, 63.43494882292201), (374.0120318920235, -90.45958195752998), (3.1622776601683795, -71.56505117707799), (514.1176908062978, -79.80480085295574), (253.81883302859936, 59.19109654902398), (473.6127109780733, -63.00212774912843)]]\n"
     ]
    }
   ],
   "source": [
    "matriz = matrixCenter(centerFirst,centerLast)\n",
    "print(matriz)"
   ]
  },
  {
   "cell_type": "code",
   "execution_count": 11,
   "metadata": {},
   "outputs": [],
   "source": [
    "for pto in centerLast:\n",
    "    cv2.circle(image, pto, 2, (0, 255, 0), -1)\n",
    "for pto in centerFirst:\n",
    "    cv2.circle(image, pto, 2, (255, 175, 0), -1)\n",
    "\n",
    "cv2.imshow(\"imagen\", image)\n",
    "cv2.waitKey(0)\n",
    "cv2.destroyAllWindows()"
   ]
  }
 ],
 "metadata": {
  "kernelspec": {
   "display_name": "Python 3",
   "language": "python",
   "name": "python3"
  },
  "language_info": {
   "codemirror_mode": {
    "name": "ipython",
    "version": 3
   },
   "file_extension": ".py",
   "mimetype": "text/x-python",
   "name": "python",
   "nbconvert_exporter": "python",
   "pygments_lexer": "ipython3",
   "version": "3.6.4"
  }
 },
 "nbformat": 4,
 "nbformat_minor": 2
}
