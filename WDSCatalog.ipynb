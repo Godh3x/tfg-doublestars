{
 "cells": [
  {
   "cell_type": "markdown",
   "metadata": {},
   "source": [
    "# Processing WDS Catalog"
   ]
  },
  {
   "cell_type": "markdown",
   "metadata": {},
   "source": [
    "The [Washington Double Star Catalog (WDS)](http://www.usno.navy.mil/USNO/astrometry/optical-IR-prod/wds/WDS) is the world's principal database of astrometric double and multiple star information.\n",
    "\n",
    "The objective is to process WDS data and obtain the coordinates from double stars following some criteria:\n",
    "\n",
    " - Last observation must be at least 1975\n",
    " - Both stars magnitudes must be 19 or less.\n",
    " - Separation must be between 2 and 180.\n",
    " - Proper motion must be greater or equal to 60.\n",
    "\n",
    "If any double star matches the criteria -> 2000 arcsecond coordinates will be stored.\n",
    "\n",
    "[Catalog format](http://ad.usno.navy.mil/wds/Webtextfiles/wdsweb_format.txt) is set by the WDS."
   ]
  },
  {
   "cell_type": "code",
   "execution_count": 1,
   "metadata": {
    "collapsed": true
   },
   "outputs": [],
   "source": [
    "import urllib.request as req\n",
    "import shutil as shu\n",
    "import os\n",
    "import math as mth"
   ]
  },
  {
   "cell_type": "markdown",
   "metadata": {},
   "source": [
    "WDS catalog is stored online."
   ]
  },
  {
   "cell_type": "code",
   "execution_count": 2,
   "metadata": {
    "collapsed": true
   },
   "outputs": [],
   "source": [
    "url = 'http://ad.usno.navy.mil/wds/Webtextfiles/wdsweb_summ.txt'"
   ]
  },
  {
   "cell_type": "markdown",
   "metadata": {},
   "source": [
    "Once a star matches it will be stored but there are several modes to store:\n",
    "\n",
    " - **a**: all the stars are stored in the same file.\n",
    " - **t**: the stars are splited by their theta, position angle, value.\n",
    " - **r**: the split is done according to rho, separation, value."
   ]
  },
  {
   "cell_type": "code",
   "execution_count": 3,
   "metadata": {
    "collapsed": true
   },
   "outputs": [],
   "source": [
    "mode = 'a'\n",
    "split = 5"
   ]
  },
  {
   "cell_type": "markdown",
   "metadata": {},
   "source": [
    "Criteria will be checked for every line of data in the WDS catalog."
   ]
  },
  {
   "cell_type": "code",
   "execution_count": 4,
   "metadata": {
    "collapsed": true
   },
   "outputs": [],
   "source": [
    "def match(data):\n",
    "    try:\n",
    "        return int(data[28:32]) > 1975 and 2 < float(data[52:57]) < 180 and \\\n",
    "               mth.sqrt(int(data[80:84]) ** 2 + int(data[84:88]) ** 2) >= 60 and \\\n",
    "               mth.sqrt(int(data[89:93]) ** 2 + int(data[93:97]) ** 2) >= 60 and \\\n",
    "               float(data[58:63]) < 19 and float(data[64:69]) < 19\n",
    "    except ValueError:\n",
    "        return False"
   ]
  },
  {
   "cell_type": "markdown",
   "metadata": {},
   "source": [
    "If the star matched the criteria it will be assigned to a directory, according to mode and split."
   ]
  },
  {
   "cell_type": "code",
   "execution_count": 5,
   "metadata": {
    "collapsed": true
   },
   "outputs": [],
   "source": [
    "def directory(theta, rho, split, mode):\n",
    "    theta = round(float(theta))\n",
    "    rho = round(float(rho))\n",
    "\n",
    "    group = (theta // split) * split\n",
    "\n",
    "    return { 'a': 'WDS/All',\n",
    "             't': 'WDS/Theta_{0}_{1}'.format(group, group + split),\n",
    "             'r': 'WDS/Rho_{0}_{1}'.format(group, group + split) }[mode]"
   ]
  },
  {
   "cell_type": "markdown",
   "metadata": {},
   "source": [
    "Star 2000 arcsen coordinates must be formated."
   ]
  },
  {
   "cell_type": "code",
   "execution_count": 6,
   "metadata": {
    "collapsed": true
   },
   "outputs": [],
   "source": [
    "def coord_format(coord):\n",
    "    list = []\n",
    "\n",
    "    list.append(coord[:2])\n",
    "    list.append(coord[2:4])\n",
    "    list.append(coord[4:9])\n",
    "\n",
    "    list.append(coord[9:12])\n",
    "    list.append(coord[12:14])\n",
    "    list.append(coord[14:])\n",
    "\n",
    "    return ' '.join(list)"
   ]
  },
  {
   "cell_type": "markdown",
   "metadata": {},
   "source": [
    "The directory must be cleared before the data is processed."
   ]
  },
  {
   "cell_type": "code",
   "execution_count": 7,
   "metadata": {},
   "outputs": [
    {
     "name": "stdout",
     "output_type": "stream",
     "text": [
      "Cleaning WDS directory...\n"
     ]
    }
   ],
   "source": [
    "print(\"Cleaning WDS directory...\")\n",
    "shu.rmtree(\"WDS\", ignore_errors=True)"
   ]
  },
  {
   "cell_type": "markdown",
   "metadata": {},
   "source": [
    "Now that all the process have been prepared, it's time to download WDS data and process it line by line."
   ]
  },
  {
   "cell_type": "code",
   "execution_count": 8,
   "metadata": {},
   "outputs": [
    {
     "name": "stdout",
     "output_type": "stream",
     "text": [
      "Trying to download data from http://ad.usno.navy.mil/wds/Webtextfiles/wdsweb_summ.txt...\n",
      "Processing data...\n",
      "Done\n"
     ]
    }
   ],
   "source": [
    "print(\"Trying to download data from {0}...\".format(url))\n",
    "try:\n",
    "    data = req.urlopen(url).readlines()\n",
    "    print(\"Processing data...\")\n",
    "    for line in data:\n",
    "        if match(line):\n",
    "            dir = directory(line[38:41], line[46:51], split, mode)\n",
    "            os.makedirs(dir, exist_ok=True)\n",
    "            \n",
    "            out = open('{0}/wds_coord.txt'.format(dir), 'a+')\n",
    "            out.write(coord_format(line[112:].decode()))\n",
    "            out.close()\n",
    "    print(\"Done\")\n",
    "except req.HTTPError:\n",
    "    print(\"URL not found\")"
   ]
  }
 ],
 "metadata": {
  "kernelspec": {
   "display_name": "Python 3",
   "language": "python",
   "name": "python3"
  },
  "language_info": {
   "codemirror_mode": {
    "name": "ipython",
    "version": 3
   },
   "file_extension": ".py",
   "mimetype": "text/x-python",
   "name": "python",
   "nbconvert_exporter": "python",
   "pygments_lexer": "ipython3",
   "version": "3.6.3"
  }
 },
 "nbformat": 4,
 "nbformat_minor": 2
}
