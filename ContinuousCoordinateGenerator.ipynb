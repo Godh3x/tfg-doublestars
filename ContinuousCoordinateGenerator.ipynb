{
 "cells": [
  {
   "cell_type": "markdown",
   "metadata": {},
   "source": [
    "# Continuous coordinate generator in python"
   ]
  },
  {
   "cell_type": "markdown",
   "metadata": {},
   "source": [
    "Creates a set of [equatorial coordinates](https://en.wikipedia.org/wiki/Equatorial_coordinate_system) in a given range."
   ]
  },
  {
   "cell_type": "code",
   "execution_count": 1,
   "metadata": {
    "collapsed": true
   },
   "outputs": [],
   "source": [
    "import math as mth"
   ]
  },
  {
   "cell_type": "markdown",
   "metadata": {},
   "source": [
    "Generated coordinates will be stored in file.txt.\n",
    "\n",
    "Coordinates are defined by two components:\n",
    "\n",
    " - Right ascension, abbreviated as ra, values may vary between 0.00 and 360.00.\n",
    " - Declination, abbreviated as dec, values may vary between -90.00 and 90.00.\n",
    " \n",
    "Range for both are between a min and max value."
   ]
  },
  {
   "cell_type": "code",
   "execution_count": 2,
   "metadata": {
    "collapsed": true
   },
   "outputs": [],
   "source": [
    "n = 1000\n",
    "file = \"cont\"\n",
    "\n",
    "ramin = 0.00\n",
    "ramax = 5.00\n",
    "\n",
    "decmin = 20.00\n",
    "decmax = 22.00"
   ]
  },
  {
   "cell_type": "markdown",
   "metadata": {},
   "source": [
    "To cover every coordinate in the defined ranges ra and dec must be shifted by certain values, the shift values for POSSI and POSSII are:\n",
    "\n",
    " - ra = 0.02\n",
    " - dec = 0.01"
   ]
  },
  {
   "cell_type": "code",
   "execution_count": 3,
   "metadata": {
    "collapsed": true
   },
   "outputs": [],
   "source": [
    "rashift = 0.02\n",
    "decshift = 0.01"
   ]
  },
  {
   "cell_type": "markdown",
   "metadata": {},
   "source": [
    "Coordinates will be stored directly in a file."
   ]
  },
  {
   "cell_type": "code",
   "execution_count": 4,
   "metadata": {
    "collapsed": true
   },
   "outputs": [],
   "source": [
    "out = open('{0}.txt'.format(file), 'w')"
   ]
  },
  {
   "cell_type": "markdown",
   "metadata": {},
   "source": [
    "Coordinates will be the combination of every ra in ramin..ramax and every dec in decmin..decmax.\n",
    "\n",
    "As stated previously, ra and dec will be shifted by certain values, but since earth is spherical, values must be adjusted to compensate the radius increase as coordinates gets closer to Earth's equator."
   ]
  },
  {
   "cell_type": "code",
   "execution_count": 5,
   "metadata": {
    "collapsed": true
   },
   "outputs": [],
   "source": [
    "dec = decmin\n",
    "while dec <= decmax:\n",
    "    ra = ramin\n",
    "    rashift_adj = rashift * abs(mth.cos(dec))\n",
    "    while ra <= ramax:\n",
    "        out.write('{0} {1}\\n'.format(round(ra,2), \"%+2.2f\" % dec))\n",
    "        ra += rashift_adj\n",
    "    dec += decshift\n",
    "    \n",
    "out.close()"
   ]
  }
 ],
 "metadata": {
  "kernelspec": {
   "display_name": "Python 3",
   "language": "python",
   "name": "python3"
  },
  "language_info": {
   "codemirror_mode": {
    "name": "ipython",
    "version": 3
   },
   "file_extension": ".py",
   "mimetype": "text/x-python",
   "name": "python",
   "nbconvert_exporter": "python",
   "pygments_lexer": "ipython3",
   "version": "3.6.3"
  }
 },
 "nbformat": 4,
 "nbformat_minor": 2
}
